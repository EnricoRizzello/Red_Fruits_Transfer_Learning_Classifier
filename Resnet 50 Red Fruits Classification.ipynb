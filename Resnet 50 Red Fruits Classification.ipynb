{
 "cells": [
  {
   "cell_type": "markdown",
   "metadata": {},
   "source": [
    "## Transfer Learning VGG 16 and VGG 19 using Keras"
   ]
  },
  {
   "cell_type": "markdown",
   "metadata": {},
   "source": [
    "Please download the dataset from the below url"
   ]
  },
  {
   "cell_type": "code",
   "execution_count": 1,
   "metadata": {},
   "outputs": [],
   "source": [
    "'''\n",
    " Predizione del tipo di frutto a partire da immagini\n",
    "\n",
    " Dataset:\n",
    " Train\n",
    "    apple\n",
    "    cherry\n",
    "    strawberry\n",
    "    tomato\n",
    " Test \n",
    "    apple\n",
    "    cherry\n",
    "    strawberry\n",
    "    tomato\n",
    " (Immagini prese da google images)   \n",
    "\n",
    "la rete neurale utilizzata è resnet50 (un classificatore CNN)\n",
    "Non si addestrerà una rete da 0 ma useremo le tecniche di \n",
    "Transfer-Learning.\n",
    "resnet50 è uno degli algoritmi all'attuale stato dell'arte usato\n",
    "nella classificazione di oggetti diversi a partire da immagini.\n",
    "Adatteremo questo modello al nostro task con il\n",
    "transfer-learning.\n",
    "\n",
    "ImageDateGenerator permette di creare data augmentation e nuove \n",
    "modded images\n",
    "\n",
    "Matplotlib è usata trivialmente per plottare grafici\n",
    "'''\n",
    "\n",
    "from tensorflow.keras.layers import Input, Lambda, Dense, Flatten\n",
    "from tensorflow.keras.models import Model\n",
    "from tensorflow.keras.applications.resnet50 import ResNet50\n",
    "#from keras.applications.vgg16 import VGG16\n",
    "from tensorflow.keras.applications.resnet50 import preprocess_input\n",
    "from tensorflow.keras.preprocessing import image\n",
    "from tensorflow.keras.preprocessing.image import ImageDataGenerator,load_img\n",
    "from tensorflow.keras.models import Sequential\n",
    "import numpy as np\n",
    "from glob import glob\n",
    "import matplotlib.pyplot as plt"
   ]
  },
  {
   "cell_type": "code",
   "execution_count": 2,
   "metadata": {},
   "outputs": [],
   "source": [
    "'''\n",
    " IMAGE_SIZE setta tutte le immagini ad una certa dimesione\n",
    "'''\n",
    "IMAGE_SIZE = [224, 224]\n",
    "'''\n",
    " Salvo i path di training e test set\n",
    "'''\n",
    "train_path = 'FruitsDataset\\train'\n",
    "valid_path = 'FruitsDataset\\test'\n"
   ]
  },
  {
   "cell_type": "code",
   "execution_count": 3,
   "metadata": {},
   "outputs": [],
   "source": [
    "'''\n",
    " Inizializzo ResNet50 con l'IMAGE-SIZE + [3] (che significa in 3 channel RGB)\n",
    " Come pesi si usa 'imagenet' perschè sono i pesi che sono stati usati nel training\n",
    " iniziale della rete.\n",
    " include_top = False perchè si hanno solo 4 categorie e quindi dovremo creare un last e un \n",
    " top layer adeguato\n",
    "'''\n",
    "resnet = ResNet50(input_shape=IMAGE_SIZE + [3], weights='imagenet', include_top=False)\n",
    "\n",
    "#resnet.summary\n"
   ]
  },
  {
   "cell_type": "code",
   "execution_count": 4,
   "metadata": {},
   "outputs": [],
   "source": [
    "'''\n",
    " Questa impostazione serve per imporre che i layers presenti in resnet non vengano\n",
    " ritrainati di nuovo\n",
    "'''\n",
    "for layer in resnet.layers:\n",
    "    layer.trainable = False"
   ]
  },
  {
   "cell_type": "code",
   "execution_count": 5,
   "metadata": {},
   "outputs": [],
   "source": [
    "'''\n",
    " Questa istruzione permette di capire quante cartelle sono presenti in train e quindi\n",
    " di ritenere quante categorie sono necessarie  \n",
    "'''\n",
    "folders = glob('FruitsDataset\\Train\\*')\n",
    "#folders"
   ]
  },
  {
   "cell_type": "code",
   "execution_count": 6,
   "metadata": {},
   "outputs": [],
   "source": [
    "'''\n",
    " Flatteining della rete neurale mediante la funzione Flatten()\n",
    "'''\n",
    "x = Flatten()(resnet.output)"
   ]
  },
  {
   "cell_type": "code",
   "execution_count": 7,
   "metadata": {},
   "outputs": [],
   "source": [
    "'''\n",
    " Imposto il numero degli output a len(folders) che è 4 e la funzione di attivazione a softmax\n",
    "'''\n",
    "prediction = Dense(len(folders), activation='softmax')(x)\n",
    "'''\n",
    " Creo il modello\n",
    "'''\n",
    "model = Model(inputs=resnet.input, outputs=prediction)"
   ]
  },
  {
   "cell_type": "code",
   "execution_count": 8,
   "metadata": {},
   "outputs": [
    {
     "data": {
      "text/plain": [
       "\"\\nOsservando la struttura del modello si mota che ora l'ultimo layer ha solo 5 nodi ed è flatten\\n\""
      ]
     },
     "execution_count": 8,
     "metadata": {},
     "output_type": "execute_result"
    }
   ],
   "source": [
    "\n",
    "'''\n",
    "Osservando la struttura del modello si mota che ora l'ultimo layer ha solo 5 nodi ed è flatten\n",
    "'''\n",
    "#model.summary()\n"
   ]
  },
  {
   "cell_type": "code",
   "execution_count": 9,
   "metadata": {},
   "outputs": [],
   "source": [
    "'''\n",
    " Creata la rete neurale compiliamo il modello settando \n",
    " come funzione di loss la categorial_crossentropy,\n",
    " adam come optimizer e come metrica di test l'accuracy\n",
    "'''\n",
    "model.compile(\n",
    "  loss='categorical_crossentropy',\n",
    "  optimizer='adam',\n",
    "  metrics=['accuracy']\n",
    ")\n"
   ]
  },
  {
   "cell_type": "code",
   "execution_count": 10,
   "metadata": {},
   "outputs": [],
   "source": [
    "'''\n",
    " Carichiamo tutte le immagini dalle cartelle e faremo dataAugmentation\n",
    " per incrementare il numero delle immagini creando nuove immagini usando\n",
    " ImageDataGenerator. Per creare queste immagini la funzione farà appunto \n",
    " data augmentation quindi incremento e decremento delle dimensione, flipping\n",
    " rotazioni traslazioni eccetera.\n",
    " Per fare dataAugmentation è sempre consigliabile riscalare il range le immagini \n",
    " (dividendo la scelta di colori per ogni pixel in 255 colori)\n",
    "'''\n",
    "from tensorflow.keras.preprocessing.image import ImageDataGenerator\n",
    "\n",
    "train_datagen = ImageDataGenerator(rescale = 1./255,\n",
    "                                   shear_range = 0.2,\n",
    "                                   zoom_range = 0.2,\n",
    "                                   horizontal_flip = True)\n",
    "\n",
    "'''\n",
    " Nota: nel test set non dovremo mai fare della data aumenentation ma\n",
    "       è consigliabile lasciere le immagini così come sono al più effettuare\n",
    "       il rescaling per avere una scaling comparabile con quello del training set\n",
    "'''\n",
    "test_datagen = ImageDataGenerator(rescale = 1./255)"
   ]
  },
  {
   "cell_type": "code",
   "execution_count": 11,
   "metadata": {},
   "outputs": [
    {
     "name": "stdout",
     "output_type": "stream",
     "text": [
      "Found 80 images belonging to 4 classes.\n"
     ]
    }
   ],
   "source": [
    "'''\n",
    " Prepariamo il training set mediante la funzione flow_from_directory\n",
    " a partire dal train_datagen applicando la data_agumantation, \n",
    " settando le dimensioni correte impostate inizialmente, un batch_size \n",
    " a 32 e dato che abbiamo PIU' di 2 classi la class_mode viene settata \n",
    " a 'categorical' (se solo 2 'binary')\n",
    " Nota: Il bastch_size serve per definire la dimensione del batch durante\n",
    "       le operazioni di calcolo della loss e backpropagation in modo da\n",
    "       non avere un batch troppo grande e saturare la RAM\n",
    "'''\n",
    "training_set = train_datagen.flow_from_directory('FruitsDataset\\Train',\n",
    "                                                 target_size = (224, 224),\n",
    "                                                 batch_size = 32,\n",
    "                                                 class_mode = 'categorical')"
   ]
  },
  {
   "cell_type": "code",
   "execution_count": 12,
   "metadata": {},
   "outputs": [
    {
     "name": "stdout",
     "output_type": "stream",
     "text": [
      "Found 40 images belonging to 4 classes.\n"
     ]
    }
   ],
   "source": [
    "'''\n",
    " Stessa operazione fatta per il test_set\n",
    "'''\n",
    "test_set = test_datagen.flow_from_directory('FruitsDataset\\Test',\n",
    "                                            target_size = (224, 224),\n",
    "                                            batch_size = 32,\n",
    "                                            class_mode = 'categorical')"
   ]
  },
  {
   "cell_type": "code",
   "execution_count": 13,
   "metadata": {},
   "outputs": [
    {
     "name": "stdout",
     "output_type": "stream",
     "text": [
      "Epoch 1/40\n",
      "3/3 [==============================] - 6s 2s/step - loss: 7.5550 - accuracy: 0.2375 - val_loss: 14.0884 - val_accuracy: 0.2500\n",
      "Epoch 2/40\n",
      "3/3 [==============================] - 4s 1s/step - loss: 10.9784 - accuracy: 0.2875 - val_loss: 5.6368 - val_accuracy: 0.2500\n",
      "Epoch 3/40\n",
      "3/3 [==============================] - 4s 1s/step - loss: 4.9655 - accuracy: 0.3000 - val_loss: 6.8196 - val_accuracy: 0.2500\n",
      "Epoch 4/40\n",
      "3/3 [==============================] - 4s 1s/step - loss: 5.4232 - accuracy: 0.3625 - val_loss: 3.2388 - val_accuracy: 0.3000\n",
      "Epoch 5/40\n",
      "3/3 [==============================] - 4s 1s/step - loss: 1.9664 - accuracy: 0.4875 - val_loss: 3.2762 - val_accuracy: 0.4000\n",
      "Epoch 6/40\n",
      "3/3 [==============================] - 4s 1s/step - loss: 3.3924 - accuracy: 0.4625 - val_loss: 2.6418 - val_accuracy: 0.4750\n",
      "Epoch 7/40\n",
      "3/3 [==============================] - 4s 1s/step - loss: 1.7235 - accuracy: 0.5375 - val_loss: 3.0860 - val_accuracy: 0.3000\n",
      "Epoch 8/40\n",
      "3/3 [==============================] - 4s 1s/step - loss: 2.5171 - accuracy: 0.3875 - val_loss: 1.9336 - val_accuracy: 0.4000\n",
      "Epoch 9/40\n",
      "3/3 [==============================] - 4s 1s/step - loss: 1.4396 - accuracy: 0.4875 - val_loss: 2.6307 - val_accuracy: 0.5000\n",
      "Epoch 10/40\n",
      "3/3 [==============================] - 4s 1s/step - loss: 2.0793 - accuracy: 0.5375 - val_loss: 1.4491 - val_accuracy: 0.4250\n",
      "Epoch 11/40\n",
      "3/3 [==============================] - 4s 1s/step - loss: 1.1337 - accuracy: 0.5875 - val_loss: 2.3115 - val_accuracy: 0.4000\n",
      "Epoch 12/40\n",
      "3/3 [==============================] - 4s 2s/step - loss: 1.1413 - accuracy: 0.6125 - val_loss: 1.5985 - val_accuracy: 0.6250\n",
      "Epoch 13/40\n",
      "3/3 [==============================] - 4s 2s/step - loss: 0.7878 - accuracy: 0.6875 - val_loss: 1.3414 - val_accuracy: 0.5000\n",
      "Epoch 14/40\n",
      "3/3 [==============================] - 4s 1s/step - loss: 0.8198 - accuracy: 0.7250 - val_loss: 1.5229 - val_accuracy: 0.5250\n",
      "Epoch 15/40\n",
      "3/3 [==============================] - 4s 2s/step - loss: 0.6183 - accuracy: 0.7500 - val_loss: 1.5141 - val_accuracy: 0.6000\n",
      "Epoch 16/40\n",
      "3/3 [==============================] - 4s 2s/step - loss: 0.6053 - accuracy: 0.7500 - val_loss: 1.3954 - val_accuracy: 0.6000\n",
      "Epoch 17/40\n",
      "3/3 [==============================] - 4s 2s/step - loss: 0.6622 - accuracy: 0.7875 - val_loss: 1.3804 - val_accuracy: 0.5750\n",
      "Epoch 18/40\n",
      "3/3 [==============================] - 4s 1s/step - loss: 0.5700 - accuracy: 0.7875 - val_loss: 1.2267 - val_accuracy: 0.6500\n",
      "Epoch 19/40\n",
      "3/3 [==============================] - 4s 1s/step - loss: 0.5370 - accuracy: 0.8000 - val_loss: 1.3787 - val_accuracy: 0.6500\n",
      "Epoch 20/40\n",
      "3/3 [==============================] - 4s 1s/step - loss: 0.4669 - accuracy: 0.8125 - val_loss: 1.4256 - val_accuracy: 0.5750\n",
      "Epoch 21/40\n",
      "3/3 [==============================] - 4s 1s/step - loss: 0.5123 - accuracy: 0.7875 - val_loss: 1.1724 - val_accuracy: 0.6000\n",
      "Epoch 22/40\n",
      "3/3 [==============================] - 4s 1s/step - loss: 0.4887 - accuracy: 0.8250 - val_loss: 1.1450 - val_accuracy: 0.6750\n",
      "Epoch 23/40\n",
      "3/3 [==============================] - 4s 1s/step - loss: 0.4662 - accuracy: 0.8500 - val_loss: 1.2643 - val_accuracy: 0.7000\n",
      "Epoch 24/40\n",
      "3/3 [==============================] - 4s 1s/step - loss: 0.5594 - accuracy: 0.8375 - val_loss: 1.3209 - val_accuracy: 0.6500\n",
      "Epoch 25/40\n",
      "3/3 [==============================] - 4s 2s/step - loss: 0.5876 - accuracy: 0.7500 - val_loss: 1.1854 - val_accuracy: 0.6000\n",
      "Epoch 26/40\n",
      "3/3 [==============================] - 4s 1s/step - loss: 0.6385 - accuracy: 0.7625 - val_loss: 1.3179 - val_accuracy: 0.5000\n",
      "Epoch 27/40\n",
      "3/3 [==============================] - 4s 1s/step - loss: 0.3906 - accuracy: 0.8375 - val_loss: 1.4540 - val_accuracy: 0.5250\n",
      "Epoch 28/40\n",
      "3/3 [==============================] - 4s 2s/step - loss: 0.5095 - accuracy: 0.7625 - val_loss: 1.2383 - val_accuracy: 0.5750\n",
      "Epoch 29/40\n",
      "3/3 [==============================] - 4s 1s/step - loss: 0.4851 - accuracy: 0.8625 - val_loss: 1.2182 - val_accuracy: 0.6000\n",
      "Epoch 30/40\n",
      "3/3 [==============================] - 4s 2s/step - loss: 0.4515 - accuracy: 0.8000 - val_loss: 1.0199 - val_accuracy: 0.7250\n",
      "Epoch 31/40\n",
      "3/3 [==============================] - 4s 1s/step - loss: 0.4073 - accuracy: 0.8625 - val_loss: 1.0902 - val_accuracy: 0.6000\n",
      "Epoch 32/40\n",
      "3/3 [==============================] - 4s 1s/step - loss: 0.3413 - accuracy: 0.9250 - val_loss: 1.1024 - val_accuracy: 0.6750\n",
      "Epoch 33/40\n",
      "3/3 [==============================] - 4s 1s/step - loss: 0.3112 - accuracy: 0.9000 - val_loss: 0.9483 - val_accuracy: 0.7000\n",
      "Epoch 34/40\n",
      "3/3 [==============================] - 4s 1s/step - loss: 0.3877 - accuracy: 0.8625 - val_loss: 0.9884 - val_accuracy: 0.6750\n",
      "Epoch 35/40\n",
      "3/3 [==============================] - 4s 1s/step - loss: 0.3125 - accuracy: 0.9125 - val_loss: 1.0993 - val_accuracy: 0.7000\n",
      "Epoch 36/40\n",
      "3/3 [==============================] - 4s 1s/step - loss: 0.3039 - accuracy: 0.9375 - val_loss: 0.9830 - val_accuracy: 0.6750\n",
      "Epoch 37/40\n",
      "3/3 [==============================] - 4s 1s/step - loss: 0.3171 - accuracy: 0.8875 - val_loss: 0.9108 - val_accuracy: 0.7500\n",
      "Epoch 38/40\n",
      "3/3 [==============================] - 4s 1s/step - loss: 0.3340 - accuracy: 0.9125 - val_loss: 1.1884 - val_accuracy: 0.6250\n",
      "Epoch 39/40\n",
      "3/3 [==============================] - 4s 2s/step - loss: 0.3279 - accuracy: 0.8750 - val_loss: 0.8803 - val_accuracy: 0.6750\n",
      "Epoch 40/40\n",
      "3/3 [==============================] - 4s 2s/step - loss: 0.5306 - accuracy: 0.7625 - val_loss: 0.9885 - val_accuracy: 0.6750\n"
     ]
    }
   ],
   "source": [
    "'''\n",
    " Abbiamo tutto ciò che serve per effettuare il fitting del modello:\n",
    " training_set,\n",
    " validation_set\n",
    " gli step per epoca sono dati dalla lunghezza del traing_set (100)\n",
    " una durata di allenamento di 35 epoche\n",
    " \n",
    " Alla 50esma epoca arriviamo a circa il 90-95% di accuracy sul training_set\n",
    " e 70-75% di accuracy per il test_set\n",
    "'''\n",
    "r = model.fit(\n",
    "  training_set,\n",
    "  validation_data=test_set,\n",
    "  steps_per_epoch=len(training_set),\n",
    "  epochs=40\n",
    ")"
   ]
  },
  {
   "cell_type": "code",
   "execution_count": 14,
   "metadata": {},
   "outputs": [
    {
     "data": {
      "text/plain": [
       "'\\n Per avere ulteriori imformazioni per ogni epoca\\n'"
      ]
     },
     "execution_count": 14,
     "metadata": {},
     "output_type": "execute_result"
    }
   ],
   "source": [
    "'''\n",
    " Per avere ulteriori imformazioni per ogni epoca\n",
    "'''\n",
    "#r.history"
   ]
  },
  {
   "cell_type": "code",
   "execution_count": 15,
   "metadata": {},
   "outputs": [
    {
     "data": {
      "image/png": "[encoded data removed]",
      "text/plain": [
       "<Figure size 432x288 with 1 Axes>"
      ]
     },
     "metadata": {
      "needs_background": "light"
     },
     "output_type": "display_data"
    },
    {
     "data": {
      "image/png": "[encoded data removed]",
      "text/plain": [
       "<Figure size 432x288 with 1 Axes>"
      ]
     },
     "metadata": {
      "needs_background": "light"
     },
     "output_type": "display_data"
    },
    {
     "data": {
      "text/plain": [
       "<Figure size 432x288 with 0 Axes>"
      ]
     },
     "metadata": {},
     "output_type": "display_data"
    }
   ],
   "source": [
    "'''\n",
    " Stampo a schermo il grafico della validation e training \n",
    " loss nel corso delle varie epoche\n",
    "'''\n",
    "plt.plot(r.history['loss'], label='train loss')\n",
    "plt.plot(r.history['val_loss'], label='val loss')\n",
    "plt.legend()\n",
    "plt.show()\n",
    "plt.savefig('LossVal_loss')\n",
    "\n",
    "'''\n",
    " Stampo a schermo il grafico della validation e training \n",
    " accuracy nel corso delle varie epoche\n",
    "'''\n",
    "plt.plot(r.history['accuracy'], label='train acc')\n",
    "plt.plot(r.history['val_accuracy'], label='val acc')\n",
    "plt.legend()\n",
    "plt.show()\n",
    "plt.savefig('AccVal_acc')"
   ]
  },
  {
   "cell_type": "code",
   "execution_count": 16,
   "metadata": {},
   "outputs": [
    {
     "name": "stderr",
     "output_type": "stream",
     "text": [
      "c:\\Users\\Gin\\AppData\\Local\\Programs\\Python\\Python39\\lib\\site-packages\\tensorflow\\python\\keras\\utils\\generic_utils.py:494: CustomMaskWarning: Custom mask layers require a config and must override get_config. When loading, the custom mask layer must be passed to the custom_objects argument.\n",
      "  warnings.warn('Custom mask layers require a config and must override '\n"
     ]
    }
   ],
   "source": [
    "'''\n",
    " Salviamo il modello mediante la funzione .save col nome\n",
    " 'model_resnet50.h5'\n",
    " H5 è un formato per gli Hieratical Data e contiene arrays\n",
    " multidimensionali di dati scientifici\n",
    "'''\n",
    "from tensorflow.keras.models import load_model\n",
    "\n",
    "model.save('red_fruits_model_resnet50.h5')"
   ]
  },
  {
   "cell_type": "code",
   "execution_count": 17,
   "metadata": {},
   "outputs": [],
   "source": [
    "'''\n",
    " Effettuiamo ora le predizioni sul test_set\n",
    "'''\n",
    "y_pred = model.predict(test_set)\n"
   ]
  },
  {
   "cell_type": "code",
   "execution_count": 19,
   "metadata": {},
   "outputs": [
    {
     "data": {
      "text/plain": [
       "\"\\n Nella matrice sottostance vi sono per ogni riga un array con la \\n probabilità per ogni classe (l'ordine è dato dalla lettera iniziale\\n delle cartelle che definiscono le classi).\\n\""
      ]
     },
     "execution_count": 19,
     "metadata": {},
     "output_type": "execute_result"
    }
   ],
   "source": [
    "'''\n",
    " Nella matrice sottostance vi sono per ogni riga un array con la \n",
    " probabilità per ogni classe (l'ordine è dato dalla lettera iniziale\n",
    " delle cartelle che definiscono le classi).\n",
    "'''\n",
    "#y_pred"
   ]
  },
  {
   "cell_type": "code",
   "execution_count": 20,
   "metadata": {},
   "outputs": [],
   "source": [
    "'''\n",
    " Verrà selezionata per ogni predizione la classe col valore di probabilità più alto.\n",
    "'''\n",
    "import numpy as np\n",
    "y_pred = np.argmax(y_pred, axis=1)"
   ]
  },
  {
   "cell_type": "code",
   "execution_count": 21,
   "metadata": {},
   "outputs": [
    {
     "data": {
      "text/plain": [
       "array([1, 0, 1, 2, 2, 2, 0, 3, 2, 0, 3, 2, 1, 0, 0, 2, 2, 1, 1, 0, 1, 1,\n",
       "       1, 2, 3, 2, 3, 0, 1, 2, 1, 3, 1, 0, 2, 2, 2, 0, 1, 1], dtype=int64)"
      ]
     },
     "execution_count": 21,
     "metadata": {},
     "output_type": "execute_result"
    }
   ],
   "source": [
    "'''\n",
    " Stampo il risultato finale per ogni immagine presente nel test_set\n",
    "'''\n",
    "y_pred"
   ]
  },
  {
   "cell_type": "code",
   "execution_count": 22,
   "metadata": {},
   "outputs": [
    {
     "ename": "FileNotFoundError",
     "evalue": "[Errno 2] No such file or directory: 'TestImage/cherry_0.jpg'",
     "output_type": "error",
     "traceback": [
      "\u001b[1;31m---------------------------------------------------------------------------\u001b[0m",
      "\u001b[1;31mFileNotFoundError\u001b[0m                         Traceback (most recent call last)",
      "\u001b[1;32m<ipython-input-22-75a264413845>\u001b[0m in \u001b[0;36m<module>\u001b[1;34m\u001b[0m\n\u001b[0;32m      9\u001b[0m  \u001b[0mQuindi\u001b[0m \u001b[0mselezioniamo\u001b[0m\u001b[0;31m \u001b[0m\u001b[0;31m'\u001b[0m\u001b[0munimmagine\u001b[0m \u001b[0mdando\u001b[0m \u001b[0mil\u001b[0m \u001b[0mtarget_size\u001b[0m \u001b[0mprescelto\u001b[0m \u001b[1;36m224\u001b[0m\u001b[0mx224\u001b[0m\u001b[1;33m\u001b[0m\u001b[1;33m\u001b[0m\u001b[0m\n\u001b[0;32m     10\u001b[0m '''\n\u001b[1;32m---> 11\u001b[1;33m \u001b[0mimg\u001b[0m \u001b[1;33m=\u001b[0m \u001b[0mimage\u001b[0m\u001b[1;33m.\u001b[0m\u001b[0mload_img\u001b[0m\u001b[1;33m(\u001b[0m\u001b[1;34m\"TestImage/cherry_0.jpg\"\u001b[0m\u001b[1;33m,\u001b[0m \u001b[0mtarget_size\u001b[0m\u001b[1;33m=\u001b[0m\u001b[1;33m(\u001b[0m\u001b[1;36m224\u001b[0m\u001b[1;33m,\u001b[0m\u001b[1;36m224\u001b[0m\u001b[1;33m)\u001b[0m\u001b[1;33m)\u001b[0m\u001b[1;33m\u001b[0m\u001b[1;33m\u001b[0m\u001b[0m\n\u001b[0m\u001b[0;32m     12\u001b[0m \u001b[1;33m\u001b[0m\u001b[0m\n",
      "\u001b[1;32mc:\\Users\\Gin\\AppData\\Local\\Programs\\Python\\Python39\\lib\\site-packages\\tensorflow\\python\\keras\\preprocessing\\image.py\u001b[0m in \u001b[0;36mload_img\u001b[1;34m(path, grayscale, color_mode, target_size, interpolation)\u001b[0m\n\u001b[0;32m    293\u001b[0m       \u001b[0mValueError\u001b[0m\u001b[1;33m:\u001b[0m \u001b[1;32mif\u001b[0m \u001b[0minterpolation\u001b[0m \u001b[0mmethod\u001b[0m \u001b[1;32mis\u001b[0m \u001b[1;32mnot\u001b[0m \u001b[0msupported\u001b[0m\u001b[1;33m.\u001b[0m\u001b[1;33m\u001b[0m\u001b[1;33m\u001b[0m\u001b[0m\n\u001b[0;32m    294\u001b[0m   \"\"\"\n\u001b[1;32m--> 295\u001b[1;33m   return image.load_img(path, grayscale=grayscale, color_mode=color_mode,\n\u001b[0m\u001b[0;32m    296\u001b[0m                         target_size=target_size, interpolation=interpolation)\n\u001b[0;32m    297\u001b[0m \u001b[1;33m\u001b[0m\u001b[0m\n",
      "\u001b[1;32mc:\\Users\\Gin\\AppData\\Local\\Programs\\Python\\Python39\\lib\\site-packages\\keras_preprocessing\\image\\utils.py\u001b[0m in \u001b[0;36mload_img\u001b[1;34m(path, grayscale, color_mode, target_size, interpolation)\u001b[0m\n\u001b[0;32m    111\u001b[0m         raise ImportError('Could not import PIL.Image. '\n\u001b[0;32m    112\u001b[0m                           'The use of `load_img` requires PIL.')\n\u001b[1;32m--> 113\u001b[1;33m     \u001b[1;32mwith\u001b[0m \u001b[0mopen\u001b[0m\u001b[1;33m(\u001b[0m\u001b[0mpath\u001b[0m\u001b[1;33m,\u001b[0m \u001b[1;34m'rb'\u001b[0m\u001b[1;33m)\u001b[0m \u001b[1;32mas\u001b[0m \u001b[0mf\u001b[0m\u001b[1;33m:\u001b[0m\u001b[1;33m\u001b[0m\u001b[1;33m\u001b[0m\u001b[0m\n\u001b[0m\u001b[0;32m    114\u001b[0m         \u001b[0mimg\u001b[0m \u001b[1;33m=\u001b[0m \u001b[0mpil_image\u001b[0m\u001b[1;33m.\u001b[0m\u001b[0mopen\u001b[0m\u001b[1;33m(\u001b[0m\u001b[0mio\u001b[0m\u001b[1;33m.\u001b[0m\u001b[0mBytesIO\u001b[0m\u001b[1;33m(\u001b[0m\u001b[0mf\u001b[0m\u001b[1;33m.\u001b[0m\u001b[0mread\u001b[0m\u001b[1;33m(\u001b[0m\u001b[1;33m)\u001b[0m\u001b[1;33m)\u001b[0m\u001b[1;33m)\u001b[0m\u001b[1;33m\u001b[0m\u001b[1;33m\u001b[0m\u001b[0m\n\u001b[0;32m    115\u001b[0m         \u001b[1;32mif\u001b[0m \u001b[0mcolor_mode\u001b[0m \u001b[1;33m==\u001b[0m \u001b[1;34m'grayscale'\u001b[0m\u001b[1;33m:\u001b[0m\u001b[1;33m\u001b[0m\u001b[1;33m\u001b[0m\u001b[0m\n",
      "\u001b[1;31mFileNotFoundError\u001b[0m: [Errno 2] No such file or directory: 'TestImage/cherry_0.jpg'"
     ]
    }
   ],
   "source": [
    "'''\n",
    " Il prossimo passo sarà effetturare delle predizioni per un nuovo \n",
    " dataset.\n",
    " Carichiamo da keras le librerie per caricare l'immagine\n",
    "'''\n",
    "from tensorflow.keras.models import load_model\n",
    "from tensorflow.keras.preprocessing import image\n",
    "'''\n",
    " Quindi selezioniamo 'unimmagine dando il target_size prescelto 224x224\n",
    "'''\n",
    "img = image.load_img(\"TestImage/cherry.jpg\", target_size=(224,224))\n",
    "\n"
   ]
  },
  {
   "cell_type": "code",
   "execution_count": 30,
   "metadata": {},
   "outputs": [],
   "source": [
    "'''\n",
    " E convertiamo quest'immagine in un array\n",
    "'''\n",
    "x = image.img_to_array(img)\n",
    "#x\n",
    "''' \n",
    " Volendo si può controllare lo shape che dovrà essere\n",
    " 224, 224, 3 (misure + 3 canali perchè RBG)\n",
    "'''\n",
    "#x.shape\n",
    "'''\n",
    " Effettuo un rescaling come fatto col training e test set\n",
    "'''\n",
    "x = x/255\n",
    "'''\n",
    " Si espanderanno poi le dimensioni dell'immagine (1, 224, 224, 3)\n",
    "'''\n",
    "x = np.expand_dims(x,axis=0)\n",
    "img_data = preprocess_input(x)\n",
    "#img_data.shape"
   ]
  },
  {
   "cell_type": "code",
   "execution_count": 31,
   "metadata": {},
   "outputs": [],
   "source": [
    "'''\n",
    " Ricarico il modello, step necessario se si è già allenato \n",
    " ed è presente nella cartella del progetto se non si vuole\n",
    " riallenare ancora\n",
    "'''\n",
    "model=load_model('red_fruits_model_resnet50.h5')"
   ]
  },
  {
   "cell_type": "code",
   "execution_count": 26,
   "metadata": {},
   "outputs": [
    {
     "data": {
      "text/plain": [
       "array([[5.71748987e-02, 9.42710042e-01, 1.15137445e-04, 1.42520307e-08]],\n",
       "      dtype=float32)"
      ]
     },
     "execution_count": 26,
     "metadata": {},
     "output_type": "execute_result"
    }
   ],
   "source": [
    "'''\n",
    " Provo a fare una predizione in base all'immagine selezionata\n",
    "'''\n",
    "model.predict(img_data)"
   ]
  },
  {
   "cell_type": "code",
   "execution_count": 32,
   "metadata": {},
   "outputs": [],
   "source": [
    "'''\n",
    " Selezione la classe con probabilità più alta nell'arrei delle prefizioni\n",
    "'''\n",
    "a=np.argmax(model.predict(img_data), axis=1)"
   ]
  },
  {
   "cell_type": "code",
   "execution_count": 33,
   "metadata": {},
   "outputs": [
    {
     "data": {
      "text/plain": [
       "array([ True])"
      ]
     },
     "execution_count": 33,
     "metadata": {},
     "output_type": "execute_result"
    }
   ],
   "source": [
    "'''\n",
    " Verifico infine che sia la classe attesa\n",
    "'''\n",
    "a==1"
   ]
  },
  {
   "cell_type": "code",
   "execution_count": null,
   "metadata": {},
   "outputs": [],
   "source": []
  }
 ],
 "metadata": {
  "kernelspec": {
   "display_name": "Python 3.9.0 64-bit",
   "language": "python",
   "name": "python3"
  },
  "language_info": {
   "codemirror_mode": {
    "name": "ipython",
    "version": 3
   },
   "file_extension": ".py",
   "mimetype": "text/x-python",
   "name": "python",
   "nbconvert_exporter": "python",
   "pygments_lexer": "ipython3",
   "version": "3.9.0"
  },
  "vscode": {
   "interpreter": {
    "hash": "8680e8088d5ef423db6c5279d50def505ea905b30c44c08bf8f9d75c6cba9092"
   }
  }
 },
 "nbformat": 4,
 "nbformat_minor": 2
}
